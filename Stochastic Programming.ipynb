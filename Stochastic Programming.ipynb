{
 "cells": [
  {
   "cell_type": "code",
   "execution_count": 2,
   "id": "5d6b4be0",
   "metadata": {},
   "outputs": [],
   "source": [
    "import numpy as np\n",
    "import gurobipy as gp\n",
    "import pandas as pd\n",
    "\n",
    "import matplotlib.pyplot as plt\n",
    "%matplotlib inline\n",
    "import seaborn as sns\n",
    "\n",
    "from sklearn.linear_model import LinearRegression\n",
    "\n",
    "import warnings\n",
    "warnings.filterwarnings('ignore')"
   ]
  },
  {
   "cell_type": "code",
   "execution_count": 3,
   "id": "d970ba06",
   "metadata": {},
   "outputs": [
    {
     "data": {
      "text/html": [
       "<div>\n",
       "<style scoped>\n",
       "    .dataframe tbody tr th:only-of-type {\n",
       "        vertical-align: middle;\n",
       "    }\n",
       "\n",
       "    .dataframe tbody tr th {\n",
       "        vertical-align: top;\n",
       "    }\n",
       "\n",
       "    .dataframe thead th {\n",
       "        text-align: right;\n",
       "    }\n",
       "</style>\n",
       "<table border=\"1\" class=\"dataframe\">\n",
       "  <thead>\n",
       "    <tr style=\"text-align: right;\">\n",
       "      <th></th>\n",
       "      <th>price</th>\n",
       "      <th>demand</th>\n",
       "    </tr>\n",
       "  </thead>\n",
       "  <tbody>\n",
       "    <tr>\n",
       "      <th>count</th>\n",
       "      <td>99.000000</td>\n",
       "      <td>99.000000</td>\n",
       "    </tr>\n",
       "    <tr>\n",
       "      <th>mean</th>\n",
       "      <td>1.017677</td>\n",
       "      <td>532.828283</td>\n",
       "    </tr>\n",
       "    <tr>\n",
       "      <th>std</th>\n",
       "      <td>0.140726</td>\n",
       "      <td>244.150382</td>\n",
       "    </tr>\n",
       "    <tr>\n",
       "      <th>min</th>\n",
       "      <td>0.760000</td>\n",
       "      <td>87.000000</td>\n",
       "    </tr>\n",
       "    <tr>\n",
       "      <th>25%</th>\n",
       "      <td>0.900000</td>\n",
       "      <td>346.000000</td>\n",
       "    </tr>\n",
       "    <tr>\n",
       "      <th>50%</th>\n",
       "      <td>1.040000</td>\n",
       "      <td>490.000000</td>\n",
       "    </tr>\n",
       "    <tr>\n",
       "      <th>75%</th>\n",
       "      <td>1.135000</td>\n",
       "      <td>731.000000</td>\n",
       "    </tr>\n",
       "    <tr>\n",
       "      <th>max</th>\n",
       "      <td>1.250000</td>\n",
       "      <td>1213.000000</td>\n",
       "    </tr>\n",
       "  </tbody>\n",
       "</table>\n",
       "</div>"
      ],
      "text/plain": [
       "           price       demand\n",
       "count  99.000000    99.000000\n",
       "mean    1.017677   532.828283\n",
       "std     0.140726   244.150382\n",
       "min     0.760000    87.000000\n",
       "25%     0.900000   346.000000\n",
       "50%     1.040000   490.000000\n",
       "75%     1.135000   731.000000\n",
       "max     1.250000  1213.000000"
      ]
     },
     "execution_count": 3,
     "metadata": {},
     "output_type": "execute_result"
    }
   ],
   "source": [
    "df = pd.read_csv('price_demand_data.csv')\n",
    "df.describe()"
   ]
  },
  {
   "cell_type": "markdown",
   "id": "9c2f1eff",
   "metadata": {},
   "source": [
    "#### 1. Fit a linear regression model to price_demand data set"
   ]
  },
  {
   "cell_type": "code",
   "execution_count": 4,
   "id": "e3f1bcb7",
   "metadata": {},
   "outputs": [
    {
     "data": {
      "text/plain": [
       "1924.7175435291088"
      ]
     },
     "execution_count": 4,
     "metadata": {},
     "output_type": "execute_result"
    }
   ],
   "source": [
    "y = df['demand']\n",
    "X = df[['price']]\n",
    "\n",
    "lm = LinearRegression().fit(X, y)\n",
    "lm.coef_; lm.intercept_"
   ]
  },
  {
   "cell_type": "code",
   "execution_count": 5,
   "id": "25f63c6e",
   "metadata": {},
   "outputs": [],
   "source": [
    "resids = y - lm.predict(X)"
   ]
  },
  {
   "cell_type": "markdown",
   "id": "b7510a3c",
   "metadata": {},
   "source": [
    "#### 2. Solve the optimal quantity to produce when p=1."
   ]
  },
  {
   "cell_type": "code",
   "execution_count": 6,
   "id": "294e817f",
   "metadata": {},
   "outputs": [
    {
     "data": {
      "text/plain": [
       "[351.3856262081299,\n",
       " 579.5202466172364,\n",
       " 472.21963007414547,\n",
       " 448.937248550244,\n",
       " 673.7489942009765]"
      ]
     },
     "execution_count": 6,
     "metadata": {},
     "output_type": "execute_result"
    }
   ],
   "source": [
    "# assume the price is p=1 and generate demand data.\n",
    "\n",
    "price = 1\n",
    "demand = []\n",
    "for i in range(len(df)):\n",
    "    demand += (price*lm.coef_ + lm.intercept_ + resids[i]).tolist()\n",
    "\n",
    "demand[:5]"
   ]
  },
  {
   "cell_type": "code",
   "execution_count": 7,
   "id": "69886f13",
   "metadata": {},
   "outputs": [],
   "source": [
    "# decision variables are (q, h1, h2, ..., h99)\n",
    "nd = len(df)\n",
    "c=0.5; g=0.75; t=0.15\n",
    "\n",
    "obj = np.zeros(nd+1)\n",
    "obj[1:] = 1.0/nd\n",
    "\n",
    "# h is negative costs\n",
    "lb = np.zeros(nd+1)\n",
    "lb[1:] = -np.inf \n",
    "ub = np.zeros(nd+1)\n",
    "ub[0] = np.inf \n",
    "\n",
    "rhs = np.zeros(2*nd)\n",
    "direction = np.array(['>','<']*(nd))"
   ]
  },
  {
   "cell_type": "code",
   "execution_count": 8,
   "id": "b427e3db",
   "metadata": {},
   "outputs": [],
   "source": [
    "A = np.zeros((2*nd,nd+1))\n",
    "for r in range(nd):\n",
    "    A[2*r,[0,r+1]] = [g-c,-1] # location 1 is q, location r+1 is this h\n",
    "    rhs[2*r] = g*demand[r]\n",
    "    A[2*r+1,[0,r+1]] = [c+t,1]\n",
    "    rhs[2*r+1] = t*demand[r]"
   ]
  },
  {
   "cell_type": "code",
   "execution_count": 9,
   "id": "3fc67e48",
   "metadata": {},
   "outputs": [
    {
     "name": "stdout",
     "output_type": "stream",
     "text": [
      "Academic license - for non-commercial use only - expires 2022-03-15\n",
      "Using license file C:\\Users\\Elisha\\gurobi.lic\n"
     ]
    }
   ],
   "source": [
    "spMod = gp.Model()\n",
    "spMod_x = spMod.addMVar(len(obj),lb=lb,ub=ub) # tell the model how many variables there are\n",
    "# must define the variables before adding constraints because variables go into the constraints\n",
    "spMod_con = spMod.addMConstrs(A, spMod_x, direction, rhs) # NAME THE CONSTRAINTS!!! so we can get information about them later!\n",
    "spMod.setMObjective(None,obj,0,sense=gp.GRB.MAXIMIZE) # add the objective to the model...we'll talk about the None and the 0\n",
    "\n",
    "spMod.Params.OutputFlag = 0 # tell gurobi to shut up!!\n",
    "spMod.optimize()"
   ]
  },
  {
   "cell_type": "code",
   "execution_count": 10,
   "id": "a9cee90f",
   "metadata": {},
   "outputs": [
    {
     "data": {
      "text/plain": [
       "471.8653795908935"
      ]
     },
     "execution_count": 10,
     "metadata": {},
     "output_type": "execute_result"
    }
   ],
   "source": [
    "spMod_x.x[0]  # the optimal quantity to produce is 471.86 when p=1."
   ]
  },
  {
   "cell_type": "code",
   "execution_count": 11,
   "id": "32fea707",
   "metadata": {},
   "outputs": [
    {
     "data": {
      "text/plain": [
       "-325.5213527193693"
      ]
     },
     "execution_count": 11,
     "metadata": {},
     "output_type": "execute_result"
    }
   ],
   "source": [
    "spMod.objval"
   ]
  },
  {
   "cell_type": "markdown",
   "id": "57aa3958",
   "metadata": {},
   "source": [
    "#### 3. Now let price impact demand. Find out the optimal price and quantity to print."
   ]
  },
  {
   "cell_type": "code",
   "execution_count": 26,
   "id": "bef66810",
   "metadata": {},
   "outputs": [],
   "source": [
    "# this function returns optimal price, quantity and profit.\n",
    "\n",
    "def optimal(df, coef, intercept, residuals):\n",
    "    \n",
    "    # decision variables are (p, q, h1, h2, ..., h99)\n",
    "    nd = len(df)\n",
    "    c=0.5; g=0.75; t=0.15\n",
    "    resids = residuals\n",
    "    \n",
    "    # obj is the linear term\n",
    "    obj = np.zeros(nd+2)\n",
    "    obj[2:] = 1.0/nd\n",
    "    obj[0] = intercept + resids.mean() \n",
    "    \n",
    "    # h is negative costs, p and q cannot be lower than zero\n",
    "    lb = np.zeros(nd+2)\n",
    "    lb[2:] = -np.inf\n",
    "    ub = np.zeros(nd+2)\n",
    "    ub[:2] = np.inf \n",
    "    \n",
    "    rhs = np.zeros(2*nd)\n",
    "    direction = np.array(['>','<']*(nd))\n",
    "    \n",
    "    # Q is quadratic term\n",
    "    Q = np.zeros((nd+2,nd+2))\n",
    "    Q[0,0] = coef\n",
    "    \n",
    "    A = np.zeros((2*nd,nd+2))\n",
    "    for r in range(nd):\n",
    "        A[2*r,[0,1,r+2]] = [-0.75*coef,g-c,-1] \n",
    "        # location 1 is p, location 2 is q, location r+2 is this h\n",
    "        rhs[2*r] = g*(intercept + resids[r])\n",
    "        A[2*r+1,[0,1,r+2]] = [-0.15*coef,c+t,1]\n",
    "        rhs[2*r+1] = t*(intercept + resids[r])\n",
    "    # print(A)\n",
    "        \n",
    "    spMod = gp.Model()\n",
    "    spMod_x = spMod.addMVar(len(obj),lb=lb,ub=ub)\n",
    "    spMod_con = spMod.addMConstrs(A, spMod_x, direction, rhs)\n",
    "    spMod.setMObjective(Q,obj,0,sense=gp.GRB.MAXIMIZE)\n",
    "    \n",
    "    spMod.Params.OutputFlag = 0 # tell gurobi to shut up!!\n",
    "    spMod.optimize()\n",
    "    \n",
    "    return spMod_x.x[0], spMod_x.x[1], spMod.objval"
   ]
  },
  {
   "cell_type": "code",
   "execution_count": 27,
   "id": "9e989183",
   "metadata": {},
   "outputs": [],
   "source": [
    "price, quantity, profit = optimal(df, lm.coef_, lm.intercept_, resids)"
   ]
  },
  {
   "cell_type": "code",
   "execution_count": 28,
   "id": "9fbb3aca",
   "metadata": {},
   "outputs": [
    {
     "name": "stdout",
     "output_type": "stream",
     "text": [
      "Optimal Price: 0.9536264966228527\n",
      "Optimal Quantity: 535.2910009499728\n",
      "Optimal Profit: 234.42493491247842\n"
     ]
    }
   ],
   "source": [
    "print('Optimal Price:', price)\n",
    "print('Optimal Quantity:', quantity)\n",
    "print('Optimal Profit:', profit)"
   ]
  },
  {
   "cell_type": "markdown",
   "id": "73e9d321",
   "metadata": {},
   "source": [
    "#### 4. How sensitive the optimal price and quantity are to the dataset."
   ]
  },
  {
   "cell_type": "code",
   "execution_count": 38,
   "id": "3e25bead",
   "metadata": {},
   "outputs": [],
   "source": [
    "optiPrice = []\n",
    "optiQuantity = []\n",
    "optiProfit = []\n",
    "\n",
    "for num in range(1000):\n",
    "    x = np.random.choice(df.index, size=len(df), replace=True).tolist()\n",
    "    sample = df.loc[x]\n",
    "    #display(sample)\n",
    "    \n",
    "    # get residuals\n",
    "    y = sample['demand']\n",
    "    X = sample[['price']]\n",
    "    lm = LinearRegression().fit(X, y)\n",
    "    a = lm.coef_\n",
    "    b = lm.intercept_\n",
    "    resids = y - lm.predict(X)\n",
    "    resids.reset_index(drop=True, inplace=True)\n",
    "    #display(resids)\n",
    "    \n",
    "    optiPrice.append(optimal(df, a, b, resids)[0])\n",
    "    optiQuantity.append(optimal(df, a, b, resids)[1])\n",
    "    optiProfit.append(optimal(df, a, b, resids)[2])"
   ]
  },
  {
   "cell_type": "code",
   "execution_count": 39,
   "id": "a2a9b4d9",
   "metadata": {},
   "outputs": [
    {
     "data": {
      "image/png": "[encoded data removed]",
      "text/plain": [
       "<Figure size 432x288 with 1 Axes>"
      ]
     },
     "metadata": {
      "needs_background": "light"
     },
     "output_type": "display_data"
    }
   ],
   "source": [
    "plt.hist(optiPrice, bins=20);"
   ]
  },
  {
   "cell_type": "code",
   "execution_count": 46,
   "id": "544e9d99",
   "metadata": {},
   "outputs": [
    {
     "data": {
      "image/png": "[encoded data removed]",
      "text/plain": [
       "<Figure size 432x288 with 1 Axes>"
      ]
     },
     "metadata": {
      "needs_background": "light"
     },
     "output_type": "display_data"
    }
   ],
   "source": [
    "plt.hist(optiQuantity, bins=20);"
   ]
  },
  {
   "cell_type": "code",
   "execution_count": 41,
   "id": "deda6cfe",
   "metadata": {},
   "outputs": [
    {
     "data": {
      "image/png": "[encoded data removed]",
      "text/plain": [
       "<Figure size 432x288 with 1 Axes>"
      ]
     },
     "metadata": {
      "needs_background": "light"
     },
     "output_type": "display_data"
    }
   ],
   "source": [
    "plt.hist(optiProfit, bins=20);"
   ]
  },
  {
   "cell_type": "markdown",
   "id": "a76cb9d6",
   "metadata": {},
   "source": [
    "#### 5. Make a scatterplot with histograms on the x and y axis to show optimal price and quantity"
   ]
  },
  {
   "cell_type": "code",
   "execution_count": 47,
   "id": "372cdeac",
   "metadata": {},
   "outputs": [],
   "source": [
    "optimal = pd.DataFrame()\n",
    "optimal['Optimal_Price'] = optiPrice\n",
    "optimal['Optimal_Quantity'] = optiQuantity\n",
    "optimal['Optimal_Profit'] = optiProfit"
   ]
  },
  {
   "cell_type": "code",
   "execution_count": 50,
   "id": "894599dc",
   "metadata": {
    "scrolled": false
   },
   "outputs": [
    {
     "data": {
      "text/plain": [
       "<seaborn.axisgrid.JointGrid at 0x1adc71111c0>"
      ]
     },
     "execution_count": 50,
     "metadata": {},
     "output_type": "execute_result"
    },
    {
     "data": {
      "image/png": "[encoded data removed]",
      "text/plain": [
       "<Figure size 432x432 with 3 Axes>"
      ]
     },
     "metadata": {
      "needs_background": "light"
     },
     "output_type": "display_data"
    }
   ],
   "source": [
    "# https://datavizpyr.com/scatter-plot-with-marginal-histograms-in-python-with-seaborn/\n",
    "\n",
    "sns.jointplot(x='Optimal_Price', \n",
    "              y='Optimal_Quantity',\n",
    "              kind='reg',\n",
    "              data=optimal,\n",
    "              height=6, ratio=4,\n",
    "              marginal_kws=dict(bins=20))\n",
    "\n",
    "#plt.savefig(\"marginal_plot_Seaborn.png\",figsize=(4,4), dpi=150)"
   ]
  },
  {
   "cell_type": "markdown",
   "id": "52dc73f5",
   "metadata": {},
   "source": [
    "#### 6. The standard NV model"
   ]
  },
  {
   "cell_type": "code",
   "execution_count": 12,
   "id": "99de8d92",
   "metadata": {},
   "outputs": [
    {
     "data": {
      "text/plain": [
       "0.25"
      ]
     },
     "execution_count": 12,
     "metadata": {},
     "output_type": "execute_result"
    }
   ],
   "source": [
    "# cost of underproduce\n",
    "\n",
    "Cu = g - c\n",
    "Cu"
   ]
  },
  {
   "cell_type": "code",
   "execution_count": 13,
   "id": "efe52f9e",
   "metadata": {},
   "outputs": [
    {
     "data": {
      "text/plain": [
       "0.65"
      ]
     },
     "execution_count": 13,
     "metadata": {},
     "output_type": "execute_result"
    }
   ],
   "source": [
    "# cost of overproduce\n",
    "\n",
    "Co = c + t\n",
    "Co"
   ]
  },
  {
   "cell_type": "code",
   "execution_count": 14,
   "id": "10e4f989",
   "metadata": {},
   "outputs": [
    {
     "data": {
      "text/plain": [
       "0.2777777777777778"
      ]
     },
     "execution_count": 14,
     "metadata": {},
     "output_type": "execute_result"
    }
   ],
   "source": [
    "# probability that demand is less or equal to production\n",
    "\n",
    "Pr = Cu/(Cu+Co)\n",
    "Pr"
   ]
  },
  {
   "cell_type": "code",
   "execution_count": 21,
   "id": "538dec8e",
   "metadata": {},
   "outputs": [
    {
     "data": {
      "text/plain": [
       "-0.5894557978497783"
      ]
     },
     "execution_count": 21,
     "metadata": {},
     "output_type": "execute_result"
    }
   ],
   "source": [
    "import scipy.stats as st\n",
    "\n",
    "z = st.norm.ppf(Pr) # get z score from cumulative distribution\n",
    "z"
   ]
  },
  {
   "cell_type": "code",
   "execution_count": 23,
   "id": "085e91e3",
   "metadata": {},
   "outputs": [
    {
     "data": {
      "text/plain": [
       "388.9124246629418"
      ]
     },
     "execution_count": 23,
     "metadata": {},
     "output_type": "execute_result"
    }
   ],
   "source": [
    "Optimal_Q = df['demand'].mean() + z*df['demand'].std()\n",
    "Optimal_Q"
   ]
  },
  {
   "cell_type": "code",
   "execution_count": 30,
   "id": "e3c154c2",
   "metadata": {},
   "outputs": [
    {
     "data": {
      "text/plain": [
       "183.2050738961797"
      ]
     },
     "execution_count": 30,
     "metadata": {},
     "output_type": "execute_result"
    }
   ],
   "source": [
    "# calculater optimal profit with standard NV model\n",
    "\n",
    "Optimal_P = np.zeros(len(df))\n",
    "for i in range(len(df)):\n",
    "    if Optimal_Q <= df['demand'][i]:\n",
    "        daily_profit = df['price'][i] * df['demand'][i] - Optimal_Q*c - (df['demand'][i]-Optimal_Q)*g\n",
    "    else:\n",
    "        daily_profit = df['price'][i] * df['demand'][i] - Optimal_Q*c - (Optimal_Q-df['demand'][i])*t\n",
    "    Optimal_P[i] = daily_profit\n",
    "\n",
    "Optimal_P.mean()"
   ]
  },
  {
   "cell_type": "code",
   "execution_count": null,
   "id": "9ea11180",
   "metadata": {},
   "outputs": [],
   "source": []
  },
  {
   "cell_type": "code",
   "execution_count": null,
   "id": "80c43e21",
   "metadata": {},
   "outputs": [],
   "source": []
  }
 ],
 "metadata": {
  "kernelspec": {
   "display_name": "Python 3",
   "language": "python",
   "name": "python3"
  },
  "language_info": {
   "codemirror_mode": {
    "name": "ipython",
    "version": 3
   },
   "file_extension": ".py",
   "mimetype": "text/x-python",
   "name": "python",
   "nbconvert_exporter": "python",
   "pygments_lexer": "ipython3",
   "version": "3.8.8"
  }
 },
 "nbformat": 4,
 "nbformat_minor": 5
}
